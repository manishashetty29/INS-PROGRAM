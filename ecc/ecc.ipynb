{
  "nbformat": 4,
  "nbformat_minor": 0,
  "metadata": {
    "colab": {
      "provenance": [],
      "authorship_tag": "ABX9TyNF3t5t/4CpZzJEiNfR7fzv",
      "include_colab_link": true
    },
    "kernelspec": {
      "name": "python3",
      "display_name": "Python 3"
    },
    "language_info": {
      "name": "python"
    }
  },
  "cells": [
    {
      "cell_type": "markdown",
      "metadata": {
        "id": "view-in-github",
        "colab_type": "text"
      },
      "source": [
        "<a href=\"https://colab.research.google.com/github/manishashetty29/INS-PROGRAM/blob/main/ecc/ecc.ipynb\" target=\"_parent\"><img src=\"https://colab.research.google.com/assets/colab-badge.svg\" alt=\"Open In Colab\"/></a>"
      ]
    },
    {
      "cell_type": "code",
      "execution_count": 7,
      "metadata": {
        "colab": {
          "base_uri": "https://localhost:8080/"
        },
        "id": "kWSfLez87aR1",
        "outputId": "6e89140e-fcbb-4fa9-cbda-6658be9450b9"
      },
      "outputs": [
        {
          "output_type": "stream",
          "name": "stdout",
          "text": [
            "Requirement already satisfied: tinyec in /usr/local/lib/python3.11/dist-packages (0.4.0)\n"
          ]
        }
      ],
      "source": [
        "\n",
        "!pip install tinyec\n",
        "\n"
      ]
    },
    {
      "cell_type": "code",
      "source": [
        "import os\n",
        "os._exit(0)  # This forces a runtime restart\n",
        "\n"
      ],
      "metadata": {
        "id": "nOt9qLwX98xn"
      },
      "execution_count": null,
      "outputs": []
    },
    {
      "cell_type": "code",
      "source": [
        "import tinyec\n",
        "print(\"tinyec module imported successfully!\")\n"
      ],
      "metadata": {
        "colab": {
          "base_uri": "https://localhost:8080/"
        },
        "id": "oEKC3M_H-MP0",
        "outputId": "bb63773f-6159-4fe7-d3c7-eb50932a9b58"
      },
      "execution_count": 1,
      "outputs": [
        {
          "output_type": "stream",
          "name": "stdout",
          "text": [
            "tinyec module imported successfully!\n"
          ]
        }
      ]
    },
    {
      "cell_type": "code",
      "source": [
        "import tinyec\n",
        "from tinyec import registry\n",
        "import secrets\n",
        "\n",
        "curve = registry.get_curve(\"brainpoolP256r1\")\n",
        "\n",
        "def compress_point(point):\n",
        "    return hex(point.x) + hex(point.y % 2)[2:]\n",
        "\n",
        "def getEnKey(pubKey):\n",
        "    ciPrivateKey = secrets.randbelow(curve.field.n)\n",
        "    ciPublicKey = ciPrivateKey * curve.g\n",
        "    enKey = ciPublicKey * ciPrivateKey\n",
        "    return (enKey, ciPublicKey)\n",
        "\n",
        "# Sender's key generation\n",
        "senderPrivateKey = secrets.randbelow(curve.field.n)\n",
        "senderPublicKey = senderPrivateKey * curve.g\n",
        "\n",
        "print(\"Sender's private key : \", hex(senderPrivateKey))\n",
        "print(\"Sender's public key : \", compress_point(senderPublicKey))\n",
        "print(\"\\n\")\n",
        "\n",
        "(enKeySender, ciPublicKeySender) = getEnKey(senderPublicKey)\n",
        "\n",
        "print(\"Sender's ciphertext public key : \", compress_point(ciPublicKeySender))\n",
        "print(\"Sender's encryption key : \", compress_point(enKeySender))\n",
        "print(\"\\n\")\n",
        "\n",
        "# Receiver's key generation\n",
        "receiverPrivateKey = secrets.randbelow(curve.field.n)\n",
        "receiverPublicKey = receiverPrivateKey * curve.g\n",
        "\n",
        "print(\"Receiver's private key : \", hex(receiverPrivateKey))\n",
        "print(\"Receiver's public key :\", compress_point(receiverPublicKey))\n",
        "print(\"\\n\")\n",
        "\n",
        "(enKeyReceiver, ciPublicKeyReceiver) = getEnKey(receiverPublicKey)\n",
        "\n",
        "print(\"Receiver's ciphertext public key : \", compress_point(ciPublicKeyReceiver))\n",
        "print(\"Receiver encryption key : \", compress_point(enKeyReceiver))\n"
      ],
      "metadata": {
        "colab": {
          "base_uri": "https://localhost:8080/"
        },
        "id": "RoTVSv0C-W-R",
        "outputId": "7f87f653-eaf6-411c-e61d-39a83f5d1155"
      },
      "execution_count": 2,
      "outputs": [
        {
          "output_type": "stream",
          "name": "stdout",
          "text": [
            "Sender's private key :  0x3a85a7744a4db5f3295383c046f1cf400104e09861ff6dfe4c08d4bc736e5637\n",
            "Sender's public key :  0xa60b26cd98b7dbda0a6afd77582b028fd988e9e6d76807eb96f496c982a656681\n",
            "\n",
            "\n",
            "Sender's ciphertext public key :  0x78ec5e2f5d01c647f8531d644f533d177a6c65314cf6b6a56b929bc0edb5cd6d1\n",
            "Sender's encryption key :  0x3fd7dded758bd0f132b642c51065e3f6a6fb8c0f5c13a0ee919bf1c231ad2671\n",
            "\n",
            "\n",
            "Receiver's private key :  0x26f3012a31696d76d5053efa4912446e69fb0ec1f6b6b438d58506d9af2baa7\n",
            "Receiver's public key : 0x1d599253898058a1c91dd3acaf49813f6840f49b00326bb300ccecf0574364780\n",
            "\n",
            "\n",
            "Receiver's ciphertext public key :  0x8aecec1868a2f9f6a2407acd6103567913244633f5d335e5a670984ad6da45500\n",
            "Receiver encryption key :  0x8a0936bb88e9ebcc2fc1359307643481095d004f58c803f35833c19c1c4512890\n"
          ]
        }
      ]
    }
  ]
}