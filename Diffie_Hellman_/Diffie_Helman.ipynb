{
  "nbformat": 4,
  "nbformat_minor": 0,
  "metadata": {
    "colab": {
      "provenance": [],
      "authorship_tag": "ABX9TyP9GohTl+zwFv0VY9aySZxO",
      "include_colab_link": true
    },
    "kernelspec": {
      "name": "python3",
      "display_name": "Python 3"
    },
    "language_info": {
      "name": "python"
    }
  },
  "cells": [
    {
      "cell_type": "markdown",
      "metadata": {
        "id": "view-in-github",
        "colab_type": "text"
      },
      "source": [
        "<a href=\"https://colab.research.google.com/github/manishashetty29/INS-PROGRAM/blob/main/Diffie_Hellman_/Diffie_Helman.ipynb\" target=\"_parent\"><img src=\"https://colab.research.google.com/assets/colab-badge.svg\" alt=\"Open In Colab\"/></a>"
      ]
    },
    {
      "cell_type": "code",
      "execution_count": 1,
      "metadata": {
        "colab": {
          "base_uri": "https://localhost:8080/"
        },
        "id": "IhKJk-4gxT0q",
        "outputId": "ff31b837-cbf3-4739-8bcb-c89d553145a8"
      },
      "outputs": [
        {
          "output_type": "stream",
          "name": "stdout",
          "text": [
            "enter the prime no:43\n",
            "enter the primitive root:3\n",
            "enter the private key of A:54\n",
            "enter the private key of B:34\n",
            "enter the public key 6.0\n",
            "enter the public key 32.0\n",
            "shared key for A: 16.0\n",
            "shared key for B: 27.0\n"
          ]
        }
      ],
      "source": [
        "import math\n",
        "q = int(input(\"enter the prime no:\"))\n",
        "a = int(input(\"enter the primitive root:\"))\n",
        "Xa = int(input(\"enter the private key of A:\"))\n",
        "Xb = int(input(\"enter the private key of B:\"))\n",
        "Ya = math.pow(a, Xa)%q\n",
        "Yb = math.pow(a, Xb)%q\n",
        "print(\"enter the public key\",Ya)\n",
        "print(\"enter the public key\",Yb)\n",
        "Ka = math.pow(Yb,Xa)%q\n",
        "Kb = math.pow(Ya,Xb)%q\n",
        "print(\"shared key for A:\",Ka)\n",
        "print(\"shared key for B:\",Kb)\n",
        "\n"
      ]
    }
  ]
}