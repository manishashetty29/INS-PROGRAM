{
  "nbformat": 4,
  "nbformat_minor": 0,
  "metadata": {
    "colab": {
      "provenance": [],
      "mount_file_id": "12deHSDc9fI9PgWp1-__y52zaZlBovkgN",
      "authorship_tag": "ABX9TyPoTlyEMAcVHnWD55PB3Cu4",
      "include_colab_link": true
    },
    "kernelspec": {
      "name": "python3",
      "display_name": "Python 3"
    },
    "language_info": {
      "name": "python"
    }
  },
  "cells": [
    {
      "cell_type": "markdown",
      "metadata": {
        "id": "view-in-github",
        "colab_type": "text"
      },
      "source": [
        "<a href=\"https://colab.research.google.com/github/manishashetty29/INS-PROGRAM/blob/main/Monoalphabetic_cipher/Monoalphabetic_cipher.ipynb\" target=\"_parent\"><img src=\"https://colab.research.google.com/assets/colab-badge.svg\" alt=\"Open In Colab\"/></a>"
      ]
    },
    {
      "cell_type": "code",
      "execution_count": null,
      "metadata": {
        "colab": {
          "base_uri": "https://localhost:8080/"
        },
        "id": "FwRiD9Li_ChQ",
        "outputId": "8fc93fe9-0e6d-4507-e860-06204b5e966c"
      },
      "outputs": [
        {
          "output_type": "stream",
          "name": "stdout",
          "text": [
            "Enter the plain text: hello\n",
            "Encrypted Text: itssg\n",
            "Decrypted Text: hello\n"
          ]
        }
      ],
      "source": [
        "keys = {\n",
        "    'a': 'q', 'b': 'w', 'c': 'e', 'd': 'r', 'e': 't', 'f': 'y', 'g': 'u', 'h': 'i', 'i': 'o', 'j': 'p',\n",
        "    'k': 'a', 'l': 's', 'm': 'd', 'n': 'f', 'o': 'g', 'p': 'h', 'q': 'j', 'r': 'k', 's': 'l', 't': 'z',\n",
        "    'u': 'x', 'v': 'c', 'w': 'v', 'x': 'b', 'y': 'n', 'z': 'm'\n",
        "}\n",
        "\n",
        "# Reverse mapping for decryption\n",
        "reverse_key = {v: k for k, v in keys.items()}\n",
        "\n",
        "def encrypt(text):\n",
        "    \"\"\"Encrypts the given text using the predefined substitution cipher.\"\"\"\n",
        "    text = text.lower()\n",
        "    return ''.join(keys.get(l, l) for l in text)\n",
        "\n",
        "def decipher(text):\n",
        "    \"\"\"Decrypts the given text back to the original.\"\"\"\n",
        "    text = text.lower()\n",
        "    return ''.join(reverse_key.get(l, l) for l in text)\n",
        "\n",
        "# User input and encryption/decryption process\n",
        "x = input(\"Enter the plain text: \")\n",
        "encrypting_text = encrypt(x)\n",
        "decrypting_text = decipher(encrypting_text)\n",
        "\n",
        "# Output results\n",
        "print(\"Encrypted Text:\", encrypting_text)\n",
        "print(\"Decrypted Text:\", decrypting_text)\n"
      ]
    },
    {
      "cell_type": "code",
      "source": [],
      "metadata": {
        "id": "R15KQ6pP_Usr"
      },
      "execution_count": null,
      "outputs": []
    }
  ]
}