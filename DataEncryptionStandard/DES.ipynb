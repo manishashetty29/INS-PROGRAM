{
  "nbformat": 4,
  "nbformat_minor": 0,
  "metadata": {
    "colab": {
      "provenance": [],
      "authorship_tag": "ABX9TyPXV1Z3poLMlZU6SChLZmRy",
      "include_colab_link": true
    },
    "kernelspec": {
      "name": "python3",
      "display_name": "Python 3"
    },
    "language_info": {
      "name": "python"
    }
  },
  "cells": [
    {
      "cell_type": "markdown",
      "metadata": {
        "id": "view-in-github",
        "colab_type": "text"
      },
      "source": [
        "<a href=\"https://colab.research.google.com/github/manishashetty29/INS-PROGRAM/blob/main/DataEncryptionStandard/DES.ipynb\" target=\"_parent\"><img src=\"https://colab.research.google.com/assets/colab-badge.svg\" alt=\"Open In Colab\"/></a>"
      ]
    },
    {
      "cell_type": "code",
      "execution_count": 1,
      "metadata": {
        "colab": {
          "base_uri": "https://localhost:8080/"
        },
        "id": "glAqYXKEtAxr",
        "outputId": "e0eff071-47fb-46c5-ad62-650e462866c8"
      },
      "outputs": [
        {
          "output_type": "stream",
          "name": "stdout",
          "text": [
            "enter the string: hello\n",
            "Key  1  =  001111010111000101001011100\n",
            "Key  2  =  010111111100010010010110000\n",
            "Key  3  =  010011011100001010111000000\n",
            "Key  4  =  110110111000011000111000000\n",
            "Key  5  =  101111011011010001100011100\n",
            "Key  6  =  011011110000000100011000000\n",
            "Key  7  =  110111110000011001011100000\n",
            "Key  8  =  001111000000000101000000000\n"
          ]
        }
      ],
      "source": [
        "import random\n",
        "\n",
        "s = input(\"enter the string: \")\n",
        "result = ''.join(format(ord(i), '08b') for i in s)\n",
        "answer = \"\"\n",
        "for i in range(len(result)):\n",
        "    if (i % 8) != 0:\n",
        "        answer += result[i]\n",
        "\n",
        "l = int(len(answer) / 2)\n",
        "left = answer[:l]\n",
        "right = answer[l:]\n",
        "lt = [2, 3, 6, 7, 1, 6, 5, 9]\n",
        "keys = []\n",
        "\n",
        "for i in range(0, 8):\n",
        "    newkey = \"\"\n",
        "    newanswer = \"\"\n",
        "    nl = int(left, 2)\n",
        "    nl = bin(nl << lt[i])\n",
        "    num = 2 + lt[i]\n",
        "    nr = int(right, 2)\n",
        "    nr = bin(nr << lt[i])\n",
        "    num = 2 + lt[i]\n",
        "    newkey = nr[num:] + nl[num:]\n",
        "    rm = []\n",
        "    while len(rm) != 8:\n",
        "        r = random.randint(0, len(newkey) - 1)\n",
        "        if r not in rm:\n",
        "            rm.append(r)\n",
        "    for j in range(len(newkey)):\n",
        "        if j not in rm:\n",
        "            newanswer += newkey[j]\n",
        "    keys.append(newanswer)\n",
        "\n",
        "for i in range(0, len(keys)):\n",
        "    print(\"Key \", i + 1, \" = \", keys[i])\n"
      ]
    }
  ]
}