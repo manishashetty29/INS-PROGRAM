{
  "nbformat": 4,
  "nbformat_minor": 0,
  "metadata": {
    "colab": {
      "provenance": [],
      "authorship_tag": "ABX9TyMbD93mIC9Ib0ebc7UtcEBc",
      "include_colab_link": true
    },
    "kernelspec": {
      "name": "python3",
      "display_name": "Python 3"
    },
    "language_info": {
      "name": "python"
    }
  },
  "cells": [
    {
      "cell_type": "markdown",
      "metadata": {
        "id": "view-in-github",
        "colab_type": "text"
      },
      "source": [
        "<a href=\"https://colab.research.google.com/github/manishashetty29/INS-PROGRAM/blob/main/hill_cipher.ipynb\" target=\"_parent\"><img src=\"https://colab.research.google.com/assets/colab-badge.svg\" alt=\"Open In Colab\"/></a>"
      ]
    },
    {
      "cell_type": "code",
      "execution_count": null,
      "metadata": {
        "colab": {
          "base_uri": "https://localhost:8080/"
        },
        "id": "9R1vQGPF83P6",
        "outputId": "40ae9516-a2d0-4b5f-fee4-a3380ec153ff"
      },
      "outputs": [
        {
          "output_type": "stream",
          "name": "stdout",
          "text": [
            "enter the plaintext:HILLCIPHER\n",
            "Encrypted: LJZSTKCCLBQK\n"
          ]
        }
      ],
      "source": [
        "#hill chipher\n",
        "import numpy as np\n",
        "def hill_cipher_encrpt(plaintext,key_matrix):\n",
        "    n=len(key_matrix)\n",
        "    plaintext=plaintext.upper().replace(\"\",\"\")\n",
        "    if len(plaintext) % n!=0:\n",
        "        plaintext +=\"X\" *(n-len(plaintext)% n)\n",
        "    plaintext_vector = [ord(char)-ord('A')for char in plaintext]\n",
        "    ciphertext=\"\"\n",
        "    for i in range(0,len(plaintext_vector),n):\n",
        "        block=plaintext_vector[i:i+n]\n",
        "        result=np.dot(key_matrix,block)%26\n",
        "        ciphertext +=\"\".join(chr(num +ord('A'))for num in result)\n",
        "    return ciphertext\n",
        "plaintext=input(\"enter the plaintext:\")\n",
        "key_matrix=np.array([[6,24,1],[13,15,10],[20,17,15]])\n",
        "print(\"Encrypted:\",hill_cipher_encrpt(plaintext,key_matrix))\n",
        "\n",
        "\n"
      ]
    },
    {
      "cell_type": "code",
      "source": [],
      "metadata": {
        "id": "iBXdDkOZ9GU-"
      },
      "execution_count": null,
      "outputs": []
    }
  ]
}