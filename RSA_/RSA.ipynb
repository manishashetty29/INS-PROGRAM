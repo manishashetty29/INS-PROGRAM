{
  "nbformat": 4,
  "nbformat_minor": 0,
  "metadata": {
    "colab": {
      "provenance": [],
      "authorship_tag": "ABX9TyOHy+vfnjceKh0iHNB46Mtc",
      "include_colab_link": true
    },
    "kernelspec": {
      "name": "python3",
      "display_name": "Python 3"
    },
    "language_info": {
      "name": "python"
    }
  },
  "cells": [
    {
      "cell_type": "markdown",
      "metadata": {
        "id": "view-in-github",
        "colab_type": "text"
      },
      "source": [
        "<a href=\"https://colab.research.google.com/github/manishashetty29/INS-PROGRAM/blob/main/RSA_/RSA.ipynb\" target=\"_parent\"><img src=\"https://colab.research.google.com/assets/colab-badge.svg\" alt=\"Open In Colab\"/></a>"
      ]
    },
    {
      "cell_type": "code",
      "execution_count": 1,
      "metadata": {
        "colab": {
          "base_uri": "https://localhost:8080/"
        },
        "id": "ZqxXtvxdwKgN",
        "outputId": "f075c404-63a9-48b9-de10-e8c7d52a44fc"
      },
      "outputs": [
        {
          "output_type": "stream",
          "name": "stdout",
          "text": [
            "Enter the value of p:19\n",
            "Enter the value of q:23\n",
            "Enter the message:47\n",
            "encrpted message: 415\n",
            "decrypted message: 47\n"
          ]
        }
      ],
      "source": [
        "def gcd(a,b):\n",
        "\twhile b:\n",
        "\t\ta,b= b,a%b\n",
        "\treturn a\n",
        "def RSA(p,q,msg):\n",
        "\tn=p*q\n",
        "\tphi = (p-1)*(q-1)\n",
        "\tfor i in range(2,phi):\n",
        "\t\tif gcd(i,phi)==1:\n",
        "\t\t\te = i\n",
        "\t\t\tbreak\n",
        "\tj=0\n",
        "\twhile True:\n",
        "\t\tif (j*e%phi)==1:\n",
        "\t\t\td = j\n",
        "\t\t\tbreak\n",
        "\t\tj+=1\n",
        "\tc = (msg**e)%n\n",
        "\tprint(\"encrpted message:\",c)\n",
        "\td = (c**d)%n\n",
        "\tprint(\"decrypted message:\",d)\n",
        "p=int(input(\"Enter the value of p:\"))\n",
        "q=int(input(\"Enter the value of q:\"))\n",
        "msg=int(input(\"Enter the message:\"))\n",
        "RSA(p,q,msg)\n"
      ]
    }
  ]
}