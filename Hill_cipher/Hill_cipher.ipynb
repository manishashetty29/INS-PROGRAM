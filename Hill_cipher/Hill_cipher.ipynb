{
  "nbformat": 4,
  "nbformat_minor": 0,
  "metadata": {
    "colab": {
      "provenance": [],
      "authorship_tag": "ABX9TyOULfFHdyaOXdMTXHODHop/",
      "include_colab_link": true
    },
    "kernelspec": {
      "name": "python3",
      "display_name": "Python 3"
    },
    "language_info": {
      "name": "python"
    }
  },
  "cells": [
    {
      "cell_type": "markdown",
      "metadata": {
        "id": "view-in-github",
        "colab_type": "text"
      },
      "source": [
        "<a href=\"https://colab.research.google.com/github/manishashetty29/INS-PROGRAM/blob/main/Hill_cipher/Hill_cipher.ipynb\" target=\"_parent\"><img src=\"https://colab.research.google.com/assets/colab-badge.svg\" alt=\"Open In Colab\"/></a>"
      ]
    },
    {
      "cell_type": "code",
      "execution_count": 1,
      "metadata": {
        "colab": {
          "base_uri": "https://localhost:8080/"
        },
        "id": "A84pPo5CnyZP",
        "outputId": "3c0d23c5-d840-4d08-9f09-e6ec7267efde"
      },
      "outputs": [
        {
          "output_type": "stream",
          "name": "stdout",
          "text": [
            "Plaintext: HELP\n",
            "Encrypted: HIAT\n",
            "Decrypted: HELP\n"
          ]
        }
      ],
      "source": [
        "import numpy as np\n",
        "\n",
        "def mod_inverse_matrix(matrix, modulus):\n",
        "    \"\"\"Finds the modular inverse of a 2x2 matrix under a given modulus.\"\"\"\n",
        "    det = int(round(np.linalg.det(matrix)))  # Compute determinant\n",
        "    det_inv = None\n",
        "\n",
        "    for i in range(modulus):\n",
        "        if (det * i) % modulus == 1:\n",
        "            det_inv = i\n",
        "            break\n",
        "\n",
        "    if det_inv is None:\n",
        "        raise ValueError(\"Matrix is not invertible under mod 26\")\n",
        "\n",
        "    adjugate = np.array([[matrix[1, 1], -matrix[0, 1]],\n",
        "                          [-matrix[1, 0], matrix[0, 0]]])  # Adjugate matrix\n",
        "\n",
        "    inverse_matrix = (det_inv * adjugate) % modulus\n",
        "    return inverse_matrix\n",
        "\n",
        "def hill_cipher_encrypt(plaintext, key_matrix):\n",
        "    \"\"\"Encrypts the plaintext using the Hill Cipher with a 2x2 key matrix.\"\"\"\n",
        "    n = len(key_matrix)\n",
        "    plaintext = plaintext.upper().replace(\" \", \"\")\n",
        "\n",
        "    if len(plaintext) % n != 0:\n",
        "        raise ValueError(\"Plaintext length must be a multiple of key matrix size.\")\n",
        "\n",
        "    plaintext_vector = [ord(char) - ord('A') for char in plaintext]\n",
        "    ciphertext = \"\"\n",
        "\n",
        "    for i in range(0, len(plaintext_vector), n):\n",
        "        block = plaintext_vector[i:i + n]\n",
        "        result = np.dot(key_matrix, block) % 26\n",
        "        ciphertext += \"\".join(chr(num + ord('A')) for num in result)\n",
        "\n",
        "    return ciphertext\n",
        "\n",
        "def hill_cipher_decrypt(ciphertext, key_matrix):\n",
        "    \"\"\"Decrypts the ciphertext using the inverse of the key matrix.\"\"\"\n",
        "    n = len(key_matrix)\n",
        "    inverse_key_matrix = mod_inverse_matrix(key_matrix, 26)\n",
        "\n",
        "    ciphertext_vector = [ord(char) - ord('A') for char in ciphertext]\n",
        "    plaintext = \"\"\n",
        "\n",
        "    for i in range(0, len(ciphertext_vector), n):\n",
        "        block = ciphertext_vector[i:i + n]\n",
        "        result = np.dot(inverse_key_matrix, block) % 26\n",
        "        plaintext += \"\".join(chr(num + ord('A')) for num in result)\n",
        "\n",
        "    return plaintext\n",
        "\n",
        "# Example usage\n",
        "plaintext = \"HELP\"  # 4 letters (perfect for a 2x2 matrix)\n",
        "key_matrix = np.array([[3, 3], [2, 5]])  # 2x2 key matrix\n",
        "\n",
        "# Encrypt\n",
        "print(\"Plaintext:\", plaintext)\n",
        "ciphertext = hill_cipher_encrypt(plaintext, key_matrix)\n",
        "print(\"Encrypted:\", ciphertext)\n",
        "\n",
        "# Decrypt\n",
        "decrypted_text = hill_cipher_decrypt(ciphertext, key_matrix)\n",
        "print(\"Decrypted:\", decrypted_text)"
      ]
    }
  ]
}