{
  "nbformat": 4,
  "nbformat_minor": 0,
  "metadata": {
    "colab": {
      "provenance": [],
      "authorship_tag": "ABX9TyP5yUYPECawDjDNRKKgPNLu",
      "include_colab_link": true
    },
    "kernelspec": {
      "name": "python3",
      "display_name": "Python 3"
    },
    "language_info": {
      "name": "python"
    }
  },
  "cells": [
    {
      "cell_type": "markdown",
      "metadata": {
        "id": "view-in-github",
        "colab_type": "text"
      },
      "source": [
        "<a href=\"https://colab.research.google.com/github/manishashetty29/INS-PROGRAM/blob/main/Feistel_Cipher1/Feistel_Cipher1.ipynb\" target=\"_parent\"><img src=\"https://colab.research.google.com/assets/colab-badge.svg\" alt=\"Open In Colab\"/></a>"
      ]
    },
    {
      "cell_type": "code",
      "execution_count": 3,
      "metadata": {
        "colab": {
          "base_uri": "https://localhost:8080/"
        },
        "id": "7TkMtcSIR3QB",
        "outputId": "1e47f400-5afc-4873-cbe5-5185894ae1cf"
      },
      "outputs": [
        {
          "output_type": "stream",
          "name": "stdout",
          "text": [
            "enter the plaintext: hello\n",
            "enter the key: world\n",
            "Encrypted text: DSCWR\n",
            "Decrypted text: HELLO\n"
          ]
        }
      ],
      "source": [
        "def vigenere_encrypt(plaintext, key):\n",
        "    key = key.upper()\n",
        "    ciphertext = \"\"\n",
        "    key_index = 0\n",
        "\n",
        "    for char in plaintext.upper():\n",
        "        if char.isalpha():\n",
        "            shift = ord(key[key_index]) - ord('A')\n",
        "            ciphertext += chr((ord(char) - ord('A') + shift) % 26 + ord('A'))\n",
        "            key_index = (key_index + 1) % len(key)\n",
        "        else:\n",
        "            ciphertext += char\n",
        "\n",
        "    return ciphertext\n",
        "\n",
        "def vigenere_decrypt(plaintext, key):\n",
        "    key = key.upper()\n",
        "    ciphertext = \"\"\n",
        "    key_index = 0\n",
        "\n",
        "    for char in plaintext.upper():\n",
        "        if char.isalpha():\n",
        "            shift = ord(key[key_index]) - ord('A')\n",
        "            ciphertext += chr((ord(char) - ord('A') - shift) % 26 + ord('A'))\n",
        "            key_index = (key_index + 1) % len(key)\n",
        "        else:\n",
        "            ciphertext += char\n",
        "\n",
        "    return ciphertext\n",
        "\n",
        "plaintext = input(\"enter the plaintext: \")\n",
        "key = input(\"enter the key: \")\n",
        "\n",
        "\n",
        "print(\"Encrypted text:\", vigenere_encrypt(plaintext, key))\n",
        "\n",
        "ciphertext = vigenere_encrypt(plaintext, key)\n",
        "\n",
        "print(\"Decrypted text:\", vigenere_decrypt(ciphertext, key))\n"
      ]
    }
  ]
}