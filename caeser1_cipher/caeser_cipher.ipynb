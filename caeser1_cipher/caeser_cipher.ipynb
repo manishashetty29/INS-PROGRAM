{
  "nbformat": 4,
  "nbformat_minor": 0,
  "metadata": {
    "colab": {
      "provenance": [],
      "mount_file_id": "1Xvnvn-PtoT4gmzGwReKGAJpG9Wchlu_K",
      "authorship_tag": "ABX9TyN9HuqyU68ZOetj99JntCa2",
      "include_colab_link": true
    },
    "kernelspec": {
      "name": "python3",
      "display_name": "Python 3"
    },
    "language_info": {
      "name": "python"
    }
  },
  "cells": [
    {
      "cell_type": "markdown",
      "metadata": {
        "id": "view-in-github",
        "colab_type": "text"
      },
      "source": [
        "<a href=\"https://colab.research.google.com/github/manishashetty29/INS-PROGRAM/blob/main/caeser1_cipher/caeser_cipher.ipynb\" target=\"_parent\"><img src=\"https://colab.research.google.com/assets/colab-badge.svg\" alt=\"Open In Colab\"/></a>"
      ]
    },
    {
      "cell_type": "code",
      "execution_count": null,
      "metadata": {
        "colab": {
          "base_uri": "https://localhost:8080/"
        },
        "id": "Sal5vMNT6IcR",
        "outputId": "7cd0ee32-4ee4-48ea-91e4-2aa6ed549003"
      },
      "outputs": [
        {
          "output_type": "stream",
          "name": "stdout",
          "text": [
            "Enter the  encrypt:instruments\n",
            "Enter the key:3\n",
            "Cipher text: lqvwuxphqwv\n",
            "Enter the cipher text:khoor\n",
            "Enter the key:3\n",
            "Plain text: hello\n"
          ]
        }
      ],
      "source": [
        "def encrypt(plain_text, key):\n",
        "    cipherText = \"\"\n",
        "    for char in plain_text:\n",
        "        if char.isalpha():\n",
        "            shift_base = ord('A') if char.isupper() else ord('a')\n",
        "            cipherText += chr((ord(char) - shift_base + key) % 26 + shift_base)\n",
        "        else:\n",
        "            cipherText += char\n",
        "    return cipherText\n",
        "def decrypt(text, key):\n",
        "    pText = \"\"\n",
        "    for char in text:\n",
        "        if char.isalpha():\n",
        "            shift_base = ord('A') if char.isupper() else ord('a')\n",
        "            pText += chr((ord(char) - shift_base - key) % 26 + shift_base)\n",
        "        else:\n",
        "            pText += char\n",
        "    return pText\n",
        "plain_text=input(\"Enter the  encrypt:\")\n",
        "key=int(input(\"Enter the key:\"))\n",
        "print(\"Cipher text:\",encrypt(plain_text,key))\n",
        "text=input(\"Enter the cipher text:\")\n",
        "key=int(input(\"Enter the key:\"))\n",
        "print(\"Plain text:\",decrypt(text,key))"
      ]
    },
    {
      "cell_type": "code",
      "source": [],
      "metadata": {
        "id": "MJaj2t166xyE"
      },
      "execution_count": null,
      "outputs": []
    }
  ]
}